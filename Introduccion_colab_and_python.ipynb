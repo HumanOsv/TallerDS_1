{
  "cells": [
    {
      "cell_type": "markdown",
      "metadata": {
        "id": "YHI3vyhv5p85"
      },
      "source": [
        "##Introducción a Colab y Python"
      ]
    },
    {
      "cell_type": "markdown",
      "metadata": {
        "id": "F8YVA_634OFk"
      },
      "source": [
        "Bienvenido a este Colab en el que tendrás una rápida introducción al lenguaje de programación Python y al entorno utilizado para los ejercicios del curso: Colab.\n",
        "\n",
        "\n",
        "<div class=\"markdown-google-sans\">\n",
        "  <h1>¿Qué es Colaboratory?</h1>\n",
        "</div>\n",
        "\n",
        "Colab, también conocido como \"Colaboratory\", te permite programar y ejecutar Python en tu navegador con las siguientes ventajas: \n",
        "- No requiere configuración\n",
        "- Acceso a GPUs sin coste adicional\n",
        "- Permite compartir contenido fácilmente\n",
        "\n",
        "Colab puede facilitar tu trabajo, ya seas <strong>estudiante</strong>, <strong>científico de datos</strong> o <strong>investigador de IA</strong>. No te pierdas el vídeo de <a href=\"https://www.youtube.com/watch?v=inN8seMm7UI\">Introducción a Colab</a> para obtener más información. O simplemente empieza con los pasos descritos más abajo.\n",
        "\n",
        "Por ejemplo, para imprimir \"Hola Mundo\", sólo hay que pasar el ratón por encima de [ ] y pulsar el botón de reproducción de la parte superior izquierda. O pulsa shift-enter para ejecutar"
      ]
    },
    {
      "cell_type": "code",
      "execution_count": null,
      "metadata": {
        "id": "X9uIpOS2zx7k"
      },
      "outputs": [],
      "source": [
        "print(\"Hello World\")"
      ]
    },
    {
      "cell_type": "markdown",
      "metadata": {
        "id": "wwJGmDrQ0EoB"
      },
      "source": [
        "## Funciones, condicionales e iteraciones\n"
      ]
    },
    {
      "cell_type": "markdown",
      "source": [
        "Vamos a crear una función de Python, y llamarla desde un bucle."
      ],
      "metadata": {
        "id": "hIQPOR_ngGWS"
      }
    },
    {
      "cell_type": "code",
      "execution_count": null,
      "metadata": {
        "id": "pRllo2HLfXiu"
      },
      "outputs": [],
      "source": [
        "def HelloWorldXY(x, y):\n",
        "  if (x < 10):\n",
        "    print(\"Hello World, x was < 10\")\n",
        "  elif (x < 20):\n",
        "    print(\"Hello World, x was >= 10 but < 20\")\n",
        "  else:\n",
        "    print(\"Hello World, x was >= 20\")\n",
        "  return x + y\n",
        "\n",
        "for i in range(8, 25, 5):  # i=8, 13, 18, 23 (start, stop, step)\n",
        "  print(\"--- Now running with i: {}\".format(i))\n",
        "  r = HelloWorldXY(i,i)\n",
        "  print(\"Result from HelloWorld: {}\".format(r))"
      ]
    },
    {
      "cell_type": "code",
      "execution_count": null,
      "metadata": {
        "id": "lHNmDCh0JpVP"
      },
      "outputs": [],
      "source": [
        "print(HelloWorldXY(1,2))"
      ]
    },
    {
      "cell_type": "markdown",
      "metadata": {
        "id": "kiZG7uhm8qCF"
      },
      "source": [
        "Fácil, ¿verdad?\n",
        "\n",
        "Si quieres un bucle que empiece en 0 hasta 2 (exclusivo) podrías hacer cualquiera de las siguientes cosas"
      ]
    },
    {
      "cell_type": "code",
      "execution_count": null,
      "metadata": {
        "id": "m8YQN1H41L-Y"
      },
      "outputs": [],
      "source": [
        "print(\"Iterate over the items. `range(2)` is like a list [0,1].\")\n",
        "for i in range(2):\n",
        "  print(i)\n",
        "\n",
        "print(\"Iterate over an actual list.\")\n",
        "for i in [0,1]:\n",
        "  print(i)\n",
        "\n",
        "print(\"While works\")\n",
        "i = 0\n",
        "while i < 2:\n",
        "  print(i)\n",
        "  i += 1"
      ]
    },
    {
      "cell_type": "code",
      "execution_count": null,
      "metadata": {
        "id": "vIgmFZq4zszl"
      },
      "outputs": [],
      "source": [
        "print(\"Python supports standard key words like continue and break\")\n",
        "while True:\n",
        "  print(\"Entered while\")\n",
        "  break"
      ]
    },
    {
      "cell_type": "markdown",
      "metadata": {
        "id": "5QyOUhFw1OUX"
      },
      "source": [
        "## Numpy y listas\n"
      ]
    },
    {
      "cell_type": "markdown",
      "source": [
        "Python tiene listas integradas en el lenguaje.\n",
        "Sin embargo, usaremos una biblioteca llamada numpy para esto.\n",
        "Numpy te da un conjunto de funciones de apoyo que son útiles cuando se hace Machine Learning.\n",
        "\n",
        "Aquí, también verás una declaración de importación. Esta declaración hace que todo el paquete numpy esté disponible y podemos acceder a esos símbolos usando la sintaxis abreviada 'np'."
      ],
      "metadata": {
        "id": "n6JOrkhXgApi"
      }
    },
    {
      "cell_type": "code",
      "execution_count": null,
      "metadata": {
        "id": "4Dxk4q-jzEy4"
      },
      "outputs": [],
      "source": [
        "import numpy as np  # Hacer que numpy esté disponible usando np.\n",
        "\n",
        "# Crear un array numpy y añadir un elemento\n",
        "a = np.array([\"Hello\", \"World\"])\n",
        "a = np.append(a, \"!\")\n",
        "print(\"Current array: {}\".format(a))\n",
        "print(\"Printing each element\")\n",
        "for i in a:\n",
        "  print(i)\n",
        "\n",
        "print(\"\\nPrinting each element and their index\")\n",
        "for i,e in enumerate(a):\n",
        "  print(\"Index: {}, was: {}\".format(i, e))"
      ]
    },
    {
      "cell_type": "code",
      "execution_count": null,
      "metadata": {
        "id": "RTa8_9G3LV03"
      },
      "outputs": [],
      "source": [
        "print(\"\\nShowing some basic math on arrays\")\n",
        "b = np.array([0,1,4,3,2])\n",
        "print(\"Max: {}\".format(np.max(b)))\n",
        "print(\"Average: {}\".format(np.average(b)))\n",
        "print(\"Max index: {}\".format(np.argmax(b)))"
      ]
    },
    {
      "cell_type": "code",
      "execution_count": null,
      "metadata": {
        "id": "9YaGj5n4LW7P"
      },
      "outputs": [],
      "source": [
        "print(\"\\nYou can print the type of anything\")\n",
        "print(\"Type of b: {}, type of b[0]: {}\".format(type(b), type(b[0])))"
      ]
    },
    {
      "cell_type": "code",
      "execution_count": null,
      "metadata": {
        "id": "V6ilVhi9LXn_"
      },
      "outputs": [],
      "source": [
        "print(\"\\nUse numpy to create a [3,3] dimension array with random number\")\n",
        "c = np.random.rand(3, 3)\n",
        "print(c)"
      ]
    },
    {
      "cell_type": "code",
      "execution_count": null,
      "metadata": {
        "id": "W_Q-DkFCLYGA"
      },
      "outputs": [],
      "source": [
        "print(\"\\nYou can print the dimensions of arrays\")\n",
        "print(\"Shape of a: {}\".format(a.shape))\n",
        "print(\"Shape of b: {}\".format(b.shape))\n",
        "print(\"Shape of c: {}\".format(c.shape))\n",
        "print(\"...Observe, Python uses both [0,1,2] and (0,1,2) to specify lists\")"
      ]
    },
    {
      "cell_type": "markdown",
      "metadata": {
        "id": "c-Jk4dG91dvD"
      },
      "source": [
        "## Especificaciones de Colab"
      ]
    },
    {
      "cell_type": "markdown",
      "metadata": {
        "id": "G0cGd8sHEmKi"
      },
      "source": [
        "Colab es una máquina virtual a la que puedes acceder directamente. Para ejecutar comandos en el terminal de la máquina virtual, anteponga a la línea un signo de exclamación (!).\n"
      ]
    },
    {
      "cell_type": "code",
      "execution_count": null,
      "metadata": {
        "id": "cLkfhyzq0W2y"
      },
      "outputs": [],
      "source": [
        "print(\"\\nDoing $ls on filesystem\")\n",
        "!ls -l\n",
        "!pwd"
      ]
    },
    {
      "cell_type": "code",
      "execution_count": null,
      "metadata": {
        "id": "gR2WTN1cOZ1n"
      },
      "outputs": [],
      "source": [
        "print(\"Install numpy\")  # Sólo para probar, numpy está realmente preinstalado en todas las instancias de Colab\n",
        "!pip install numpy"
      ]
    },
    {
      "cell_type": "markdown",
      "source": [
        "Celdas HTML\n",
        "\n",
        "El siguiente código añadirá SVG a su documento."
      ],
      "metadata": {
        "id": "SjEM8DEAa_G4"
      }
    },
    {
      "cell_type": "code",
      "source": [
        "%%html \n",
        "<svg xmlns=\"http://www.w3.org/2000/svg\" viewBox=\"0 0 600 400\" width=\"400\" height=\"400\">   \n",
        " <rect x=\"10\" y=\"00\" width=\"300\" height=\"100\" rx=\"0\" style=\"fill:orange; stroke:black; fill-opacity:1.0\" />   \n",
        " <rect x=\"10\" y=\"100\" width=\"300\" height=\"100\" rx=\"0\" style=\"fill:white; stroke:black; fill-opacity:1.0;\" />   \n",
        " <rect x=\"10\" y=\"200\" width=\"300\" height=\"100\" rx=\"0\" style=\"fill:green; stroke:black; fill-opacity:1.0;\" /> \n",
        "</svg> "
      ],
      "metadata": {
        "id": "0czQtZHnbCLB"
      },
      "execution_count": null,
      "outputs": []
    },
    {
      "cell_type": "markdown",
      "metadata": {
        "id": "QuWRpQdatAIU"
      },
      "source": [
        "**Ejercicio**\n",
        "\n",
        "Cree una celda de código debajo de esta celda de texto y añada el código:\n",
        "\n",
        "\n",
        "*   Listar la ruta del directorio actual  (pwd)\n",
        "* Ir a / (cd) y mostrar el contenido (ls -l)"
      ]
    },
    {
      "cell_type": "code",
      "execution_count": null,
      "metadata": {
        "id": "xU-cJbMCR61P"
      },
      "outputs": [],
      "source": [
        "!pwd\n",
        "!cd /\n",
        "!ls -l\n",
        "print(\"Hello\")"
      ]
    },
    {
      "cell_type": "markdown",
      "metadata": {
        "id": "7b5jv0ouFREV"
      },
      "source": [
        "Todo el uso de Colab en este curso es completamente gratuito. Incluso el uso de la GPU se proporciona de forma gratuita durante algunas horas de uso cada día.\n",
        "\n",
        "**Usando GPUs**\n",
        "* Muchos de los ejercicios del curso se ejecutan más rápidamente utilizando el runtime de la GPU: Tiempo de ejecución | Cambiar tipo de tiempo de ejecución | Acelerador de hardware | GPU.\n",
        "\n",
        "**Algunas palabras finales sobre Colab**\n",
        "*   Se ejecuta cada celda en orden, se puede editar y re-ejecutar las celdas si se desea\n",
        "*   A veces, esto puede tener consecuencias no deseadas. Por ejemplo, si añade una dimensión a un array y ejecuta la celda varias veces, es posible que las celdas posteriores no funcionen. Si encuentra un problema, reinicie su entorno:\n",
        "  *   Runtime -> Restart runtime... Resets your Python shell\n",
        "  *   Runtime -> Restart all runtimes... Restablecerá la imagen de Colab, y te devolverá a un entorno 100% limpio\n",
        "* También puede borrar la salida en el Colab haciendo: Edit -> Clear all outputs\n",
        "\n",
        "**Learn More**\n",
        "*   Check out [this](https://www.youtube.com/watch?v=inN8seMm7UI&list=PLQY2H8rRoyvwLbzbnKJ59NkZvQAW9wLbx&index=3) episode of #CodingTensorFlow, and don't forget to subscribe to the YouTube channel ;)\n"
      ]
    },
    {
      "cell_type": "markdown",
      "source": [
        "**texto en negrita**# Nueva sección"
      ],
      "metadata": {
        "id": "9mcjL5IzJm6R"
      }
    },
    {
      "cell_type": "markdown",
      "source": [
        "## Matplotlib: Visualización con Python"
      ],
      "metadata": {
        "id": "80eGgjXgVZBf"
      }
    },
    {
      "cell_type": "markdown",
      "source": [
        "Matplotlib es probablemente el paquete de Python más utilizado para gráficos. Proporciona una manera muy rápida de visualizar datos y figuras con calidad de publicación en varios formatos."
      ],
      "metadata": {
        "id": "tad26nfSVdIG"
      }
    },
    {
      "cell_type": "markdown",
      "source": [
        "Para crear un gráfico con matplotlib es habitual seguir los siguientes pasos:\n",
        "\n",
        "1- Importar el módulo `pyplot`.\n",
        "\n",
        "2- Definir la figura que contendrá el gráfico, que es la region (ventana o página) donde se dibujará y los ejes sobre los que se dibujarán los datos. Para ello se utiliza la función `subplots()`.\n",
        "\n",
        "3- Dibujar los datos sobre los ejes. Para ello se utilizan distintas funciones dependiendo del tipo de gráfico que se quiera.\n",
        "\n",
        "4- Personalizar el gráfico. Para ello existen multitud de funciones que permiten añadir un título, una leyenda, una rejilla, cambiar colores o personalizar los ejes.\n",
        "\n",
        "5- Guardar el gráfico. Para ello se utiliza la función `savefig()`.\n",
        "\n",
        "6- Mostrar el gráfico. Para ello se utiliza la función `show()`.\n",
        "\n",
        "\n",
        "\n"
      ],
      "metadata": {
        "id": "ZBwj3EnTYG9f"
      }
    },
    {
      "cell_type": "markdown",
      "source": [
        "Diagramas de dispersión o puntos\n",
        "\n",
        "`scatter(x, y)`: Dibuja un diagrama de puntos con las coordenadas de la lista x en el eje X y las coordenadas de la lista y en el eje Y."
      ],
      "metadata": {
        "id": "Zzrw-48_Y2Sn"
      }
    },
    {
      "cell_type": "code",
      "source": [
        "import matplotlib.pyplot as plt\n",
        "fig, ax = plt.subplots()\n",
        "ax.scatter([1, 2, 3, 4], [1, 2, 0, 0.5])\n",
        "plt.show()"
      ],
      "metadata": {
        "id": "-qBmjjpSZYQf"
      },
      "execution_count": null,
      "outputs": []
    },
    {
      "cell_type": "markdown",
      "source": [
        "Diagramas de barras verticales\n",
        "\n",
        "`bar(x, y):` Dibuja un diagrama de barras verticales donde x es una lista con la posición de las barras en el eje X, e y es una lista con la altura de las barras en el eje Y. "
      ],
      "metadata": {
        "id": "Jta4syTTZgeD"
      }
    },
    {
      "cell_type": "code",
      "source": [
        "import matplotlib.pyplot as plt\n",
        "fig, ax = plt.subplots()\n",
        "ax.bar([1, 2, 3], [3, 2, 1])\n",
        "plt.show()"
      ],
      "metadata": {
        "id": "64P06YdKZnn3"
      },
      "execution_count": null,
      "outputs": []
    },
    {
      "cell_type": "markdown",
      "source": [
        "Histogramas\n",
        "\n",
        "`hist(x, bins)`: Dibuja un histograma con las frecuencias resultantes de agrupar los datos de la lista x en las clases definidas por la lista `bins`"
      ],
      "metadata": {
        "id": "p5a9mHCZZsRg"
      }
    },
    {
      "cell_type": "code",
      "source": [
        "import numpy as np\n",
        "import matplotlib.pyplot as plt\n",
        "fig, ax = plt.subplots()\n",
        "x = np.random.normal(5, 1.5, size=1000)\n",
        "ax.hist(x, np.arange(0, 11))\n",
        "plt.show()"
      ],
      "metadata": {
        "id": "GsUU24ZIZ67Q"
      },
      "execution_count": null,
      "outputs": []
    },
    {
      "cell_type": "markdown",
      "source": [
        "Diagramas de contorno\n",
        "\n",
        "`contourf(x, y, z)`: Dibuja un diagrama de contorno con las curvas de nivel de la superficie dada por los puntos con las coordenadas de las listas x, y y z en los ejes X, Y y Z respectivamente."
      ],
      "metadata": {
        "id": "n6ZeDw2gZ_K3"
      }
    },
    {
      "cell_type": "code",
      "source": [
        "import matplotlib.pyplot as plt\n",
        "fig, ax = plt.subplots()\n",
        "x = np.linspace(-3.0, 3.0, 100)\n",
        "y = np.linspace(-3.0, 3.0, 100)\n",
        "x, y = np.meshgrid(x, y)\n",
        "z = np.sqrt(x**2 + 2*y**2)\n",
        "ax.contourf(x, y, z)\n",
        "plt.show()"
      ],
      "metadata": {
        "id": "bBkYkERzaLMg"
      },
      "execution_count": null,
      "outputs": []
    },
    {
      "cell_type": "markdown",
      "source": [
        "## Pandas DataFrame"
      ],
      "metadata": {
        "id": "fxkdLBPEahK-"
      }
    },
    {
      "cell_type": "markdown",
      "source": [
        "Una de las mejores opciones para trabajar con datos tabulares en Python es usar la Python Data Analysis Library (alias Pandas). La biblioteca Pandas provee estructuras de datos, genera gráficos de alta calidad con matplotlib y se integra de buena forma con otras bibliotecas que usan arrays de NumPy (la cual es otra biblioteca de Python)."
      ],
      "metadata": {
        "id": "5Z_FC7TZaj6R"
      }
    },
    {
      "cell_type": "markdown",
      "source": [
        "Este Colab introduce los DataFrames, que son la estructura de datos central en la API de pandas. Este Colab proporciona una introducción muy rápida a las partes de DataFrames necesarias para hacer ML.\n",
        "\n",
        "**Un DataFrame es similar a una hoja de cálculo en memoria. Como una hoja de cálculo:**\n",
        "\n",
        "1- Un DataFrame almacena los datos en celdas.\n",
        "\n",
        "2- Un DataFrame tiene columnas con nombre (normalmente) y filas numeradas."
      ],
      "metadata": {
        "id": "cJLui3Lgc0Ph"
      }
    },
    {
      "cell_type": "markdown",
      "source": [
        "\n",
        "**Importar bibliotecas NumPy y pandas**\n",
        "\n",
        "Ejecutar la siguientes intrucciones de código para importar las bibliotecas NumPy y pandas."
      ],
      "metadata": {
        "id": "77728yR4dRbQ"
      }
    },
    {
      "cell_type": "code",
      "source": [
        "import numpy as np\n",
        "import pandas as pd"
      ],
      "metadata": {
        "id": "WcMIbAwIdsjr"
      },
      "execution_count": 7,
      "outputs": []
    },
    {
      "cell_type": "markdown",
      "source": [
        "**Creación de un DataFrame**\n",
        "\n",
        "La siguiente celda de código crea un simple DataFrame que contiene 10 celdas organizadas de la siguiente manera:\n",
        "\n",
        "  * 5 filas\n",
        "  * 2 columnas, una llamada `temperature` y la otra llamada `activity`\n",
        "\n",
        "La siguiente celda de código crea una instancia de `pd.DataFrame` clase para generar un DataFrame. La clase toma dos argumentos:\n",
        "\n",
        "  * El primer argumento proporciona los datos para rellenar las 10 celdas. La celda de código llama a `np.array` para generar la matriz NumPy 5x2.\n",
        "  * El segundo argumento identifica los nombres de las dos columnas."
      ],
      "metadata": {
        "id": "2GlrTkIPd5Ts"
      }
    },
    {
      "cell_type": "code",
      "source": [
        "# Create and populate a 5x2 NumPy array.\n",
        "my_data = np.array([[0, 3], [10, 7], [20, 9], [30, 14], [40, 15]])\n",
        "\n",
        "# Create a Python list that holds the names of the two columns.\n",
        "my_column_names = ['temperature', 'activity']\n",
        "\n",
        "# Create a DataFrame.\n",
        "my_dataframe = pd.DataFrame(data=my_data, columns=my_column_names)\n",
        "\n",
        "# Print the entire DataFrame\n",
        "print(my_dataframe)"
      ],
      "metadata": {
        "id": "DR4dli01e_TR"
      },
      "execution_count": null,
      "outputs": []
    },
    {
      "cell_type": "markdown",
      "source": [
        "**Añadir una nueva columna a un DataFrame**\n",
        "\n",
        "Puede añadir una nueva columna a un DataFrame de pandas existente simplemente asignando valores a un nuevo nombre de columna. Por ejemplo, el siguiente código crea una tercera columna llamada `adjusted` en `my_dataframe`: "
      ],
      "metadata": {
        "id": "aZKUx003fDeR"
      }
    },
    {
      "cell_type": "code",
      "source": [
        "# Create a new column named adjusted.\n",
        "my_dataframe[\"adjusted\"] = my_dataframe[\"activity\"] + 2\n",
        "\n",
        "# Print the entire DataFrame\n",
        "print(my_dataframe)"
      ],
      "metadata": {
        "id": "52A0gHIjfgc5"
      },
      "execution_count": null,
      "outputs": []
    },
    {
      "cell_type": "markdown",
      "source": [
        "**Especificar un subconjunto de un DataFrame**\n",
        "\n",
        "Pandas proporciona múltiples formas de aislar filas, columnas, cortes o celdas específicas en un DataFrame."
      ],
      "metadata": {
        "id": "2EOab5uUflra"
      }
    },
    {
      "cell_type": "code",
      "source": [
        "print(\"Rows #0, #1, and #2:\")\n",
        "print(my_dataframe.head(3), '\\n')\n",
        "\n",
        "print(\"Row #2:\")\n",
        "print(my_dataframe.iloc[[2]], '\\n')\n",
        "\n",
        "print(\"Rows #1, #2, and #3:\")\n",
        "print(my_dataframe[1:4], '\\n')\n",
        "\n",
        "print(\"Column 'temperature':\")\n",
        "print(my_dataframe['temperature'])"
      ],
      "metadata": {
        "id": "oDeB1biMfw_R"
      },
      "execution_count": null,
      "outputs": []
    },
    {
      "cell_type": "markdown",
      "source": [
        "## Primera red neuronal en Python y Tensorflow"
      ],
      "metadata": {
        "id": "iG1-BRLY_KuN"
      }
    },
    {
      "cell_type": "markdown",
      "source": [
        "Cómo pasar de grados Celsius a Fahrenheit"
      ],
      "metadata": {
        "id": "Z2edkCM9AgYu"
      }
    },
    {
      "cell_type": "markdown",
      "source": [
        "![celsius-vs-fahrenheit1.webp](data:image/webp;base64,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)"
      ],
      "metadata": {
        "id": "Gy_MVzQL_r2m"
      }
    },
    {
      "cell_type": "markdown",
      "source": [
        "Utilizando programacion regular:"
      ],
      "metadata": {
        "id": "QNLwQ0Y9AxKe"
      }
    },
    {
      "cell_type": "code",
      "source": [
        "def functionCtoF(ce):\n",
        "  Fa = ce * 1.8 + 32\n",
        "  return Fa\n",
        "\n",
        "\n",
        "Far = functionCtoF(100.0)\n",
        "print(\"Result Fahrenheit:  \" + str(Far))"
      ],
      "metadata": {
        "colab": {
          "base_uri": "https://localhost:8080/"
        },
        "id": "KEyKisWWA8yF",
        "outputId": "570ad42f-a0f2-4590-a28a-617288c54d1d"
      },
      "execution_count": null,
      "outputs": [
        {
          "output_type": "stream",
          "name": "stdout",
          "text": [
            "Result Fahrenheit:  212.0\n"
          ]
        }
      ]
    },
    {
      "cell_type": "markdown",
      "source": [
        "Primero importamos las bibliotecas tensorflow que fue diseñada por google para IA y numpy para trabajar facilmente on arreglos numericos"
      ],
      "metadata": {
        "id": "fkfJOSlc_M-l"
      }
    },
    {
      "cell_type": "code",
      "source": [
        "import tensorflow as tf\n",
        "import numpy as np"
      ],
      "metadata": {
        "id": "Jt4oeWpV_Rvc"
      },
      "execution_count": null,
      "outputs": []
    },
    {
      "cell_type": "code",
      "source": [
        "celsius = np.array([-40, 15, 22, 38], dtype=float)\n",
        "fahrenheit = np.array([-40,  59, 72, 100], dtype=float)\n",
        "\n",
        "\n",
        "#celsius = np.array([-40, -10, 0, 8, 15, 22, 38], dtype=float)\n",
        "#fahrenheit = np.array([-40, 14, 32, 46, 59, 72, 100], dtype=float)\n",
        "\n",
        "\n",
        "#celsius = np.array([-273.15, -50, -40 , -30 , -20, -10, -9, -8, -7, -6, -5, -4, -3, -2, -1, 0, 1, 2, 3, 4, 5, 6, 7, 8, 9, 10, 11, 12, 13, 14, 15, 16, 17, 18, 19, 20, 21, 22, 23, 24, 25, 26, 27, 28, 29, 30, 31, 32, 33, 34, 35, 36, 37, 38, 39, 40, 50, 60, 70, 80, 90, 100, 200, 300, 400, 500, 600, 700, 800, 900, 1000], dtype=float)\n",
        "#fahrenheit = np.array([-459.67, -58.0, -40.0, -22.0, -4.0, 14.0, 15.8, 17.6, 19.4, 21.2, 23.0, 24.8, 26.6, 28.4, 30.2, 32.0, 33.8, 35.6, 37.4, 39.2, 41.0, 42.8, 44.6, 46.4, 48.2, 50.0, 51.8, 53.6, 55.4, 57.2, 59.0, 60.8, 62.6, 64.4, 66.2, 68.0, 69.8, 71.6, 73.4, 75.2, 77.0, 78.8, 80.6, 82.4, 84.2, 86.0, 87.8, 89.6, 91.4, 93.2, 95.0, 96.8, 98.6, 100.4, 102.2, 104.0, 122.0, 140.0, 158.0, 176.0, 194.0, 212.0, 392.0, 572.0, 752.0, 932.0, 1112.0, 1292.0, 1472.0, 1652.0, 1832.0], dtype=float)\n"
      ],
      "metadata": {
        "id": "TLTHgQogB6T2"
      },
      "execution_count": null,
      "outputs": []
    },
    {
      "cell_type": "markdown",
      "source": [
        "\n",
        "![image.png](data:image/png;base64,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)\n",
        "\n",
        "Keras es una biblioteca de Redes Neuronales de Código Abierto escrita en Python. Es capaz de ejecutarse sobre TensorFlow, Microsoft Cognitive Toolkit o Theano.​Está especialmente diseñada para posibilitar la experimentación en más o menos poco tiempo con redes de Aprendizaje Profundo\n"
      ],
      "metadata": {
        "id": "atNDw5HMGZ_g"
      }
    },
    {
      "cell_type": "code",
      "source": [
        "#capa = tf.keras.layers.Dense(units=1, input_shape=[1])\n",
        "#modelo = tf.keras.Sequential([capa])\n",
        "\n",
        "oculta1 = tf.keras.layers.Dense(units=3, input_shape=[1])\n",
        "oculta2 = tf.keras.layers.Dense(units=3)\n",
        "salida = tf.keras.layers.Dense(units=1)\n",
        "modelo = tf.keras.Sequential([oculta1, oculta2, salida])"
      ],
      "metadata": {
        "id": "v-cSGr5-B9o-"
      },
      "execution_count": null,
      "outputs": []
    },
    {
      "cell_type": "code",
      "source": [
        "modelo.compile(\n",
        "    optimizer=tf.keras.optimizers.Adam(0.1),\n",
        "    loss='mean_squared_error'\n",
        ")"
      ],
      "metadata": {
        "id": "VAb6yJSGCCre"
      },
      "execution_count": null,
      "outputs": []
    },
    {
      "cell_type": "code",
      "source": [
        "print(\"Comenzando entrenamiento...\")\n",
        "historial = modelo.fit(celsius, fahrenheit, epochs=1000, verbose=False)\n",
        "print(\"Modelo entrenado!\")"
      ],
      "metadata": {
        "id": "nAz-lj6jCDaG"
      },
      "execution_count": null,
      "outputs": []
    },
    {
      "cell_type": "code",
      "source": [
        "import matplotlib.pyplot as plt\n",
        "plt.xlabel(\"# Epocas\")\n",
        "plt.ylabel(\"Magnitud de pérdida\")\n",
        "plt.plot(historial.history[\"loss\"])"
      ],
      "metadata": {
        "id": "zk0cNQCcCF43"
      },
      "execution_count": null,
      "outputs": []
    },
    {
      "cell_type": "code",
      "source": [
        "print(\"Hagamos una predicción!\")\n",
        "resultado = modelo.predict([100.0])\n",
        "print(\"El resultado es \" + str(resultado) + \" fahrenheit!\")"
      ],
      "metadata": {
        "id": "8L488GJTCHzG"
      },
      "execution_count": null,
      "outputs": []
    },
    {
      "cell_type": "code",
      "source": [
        "print(\"Variables internas del modelo\")\n",
        "#print(capa.get_weights())\n",
        "print(oculta1.get_weights())\n",
        "print(oculta2.get_weights())\n",
        "print(salida.get_weights())"
      ],
      "metadata": {
        "id": "ShRkDhY2CMq3"
      },
      "execution_count": null,
      "outputs": []
    },
    {
      "cell_type": "markdown",
      "source": [
        "## Más recursos\n",
        "\n"
      ],
      "metadata": {
        "id": "bWxTePeEUS_4"
      }
    },
    {
      "cell_type": "markdown",
      "source": [
        "<div class=\"markdown-google-sans\">\n",
        "\n",
        "Trabajar con cuadernos en Colab\n",
        "\n",
        "</div>\n",
        "\n",
        "- [Información general sobre Colaboratory](/notebooks/basic_features_overview.ipynb)\n",
        "- [Guía de Markdown](/notebooks/markdown_guide.ipynb)\n",
        "- [Importar bibliotecas e instalar dependencias](/notebooks/snippets/importing_libraries.ipynb)\n",
        "- [Guardar y cargar cuadernos en GitHub](https://colab.research.google.com/github/googlecolab/colabtools/blob/main/notebooks/colab-github-demo.ipynb)\n",
        "- [Formularios interactivos](/notebooks/forms.ipynb)\n",
        "- [Widgets interactivos](/notebooks/widgets.ipynb)\n",
        "- <img src=\"/img/new.png\" height=\"20px\" align=\"left\" hspace=\"4px\" alt=\"New\"></img>\n",
        "\n",
        "<div class=\"markdown-google-sans\">\n",
        "\n",
        "<a name=\"working-with-data\"></a>\n",
        "Trabajar con datos\n",
        "</div>\n",
        "\n",
        "- [Cargar datos: Drive, Hojas de cálculo y Google Cloud Storage](/notebooks/io.ipynb) \n",
        "- [Gráficos: visualización de datos](/notebooks/charts.ipynb)\n",
        "- [Primeros pasos con BigQuery](/notebooks/bigquery.ipynb)\n",
        "\n",
        "<div class=\"markdown-google-sans\">\n",
        "\n",
        "Curso intensivo de aprendizaje automático\n",
        "\n",
        "<div>\n",
        "\n",
        "A continuación, se muestran algunos cuadernos del curso online de Google sobre aprendizaje automático. Para obtener más información, consulta el <a href=\"https://developers.google.com/machine-learning/crash-course/\">sitio web del curso completo</a>.\n",
        "- [Introducción a Pandas DataFrame](https://colab.research.google.com/github/google/eng-edu/blob/main/ml/cc/exercises/pandas_dataframe_ultraquick_tutorial.ipynb)\n",
        "- [Regresión lineal con tf.keras usando datos sintéticos](https://colab.research.google.com/github/google/eng-edu/blob/main/ml/cc/exercises/linear_regression_with_synthetic_data.ipynb)\n",
        "\n",
        "<div class=\"markdown-google-sans\">\n",
        "\n",
        "<a name=\"using-accelerated-hardware\"></a>\n",
        "Uso de hardware acelerado\n",
        "</div>\n",
        "\n",
        "- [TensorFlow con GPUs](/notebooks/gpu.ipynb)\n",
        "- [TensorFlow con TPUs](/notebooks/tpu.ipynb)\n"
      ],
      "metadata": {
        "id": "o5HijURrU-S-"
      }
    }
  ],
  "metadata": {
    "accelerator": "GPU",
    "colab": {
      "collapsed_sections": [
        "YHI3vyhv5p85",
        "wwJGmDrQ0EoB",
        "5QyOUhFw1OUX",
        "c-Jk4dG91dvD",
        "80eGgjXgVZBf",
        "fxkdLBPEahK-",
        "iG1-BRLY_KuN",
        "bWxTePeEUS_4"
      ],
      "name": "Introduccion_colab_and_python.ipynb",
      "toc_visible": true,
      "provenance": []
    },
    "kernelspec": {
      "display_name": "Python 3",
      "name": "python3"
    }
  },
  "nbformat": 4,
  "nbformat_minor": 0
}